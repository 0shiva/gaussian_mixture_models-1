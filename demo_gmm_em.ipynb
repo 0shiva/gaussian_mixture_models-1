{
 "cells": [
  {
   "cell_type": "code",
   "execution_count": 38,
   "metadata": {
    "collapsed": true,
    "slideshow": {
     "slide_type": "slide"
    }
   },
   "outputs": [],
   "source": [
    "from random import uniform\n",
    "from math import sqrt, log, exp, pi\n",
    "\n",
    "import matplotlib.pyplot as plt\n",
    "import numpy as np\n",
    "\n",
    "import pandas as pd\n",
    "from scipy import stats\n",
    "import seaborn as sns\n",
    "\n",
    "%matplotlib inline"
   ]
  },
  {
   "cell_type": "code",
   "execution_count": 39,
   "metadata": {
    "slideshow": {
     "slide_type": "slide"
    }
   },
   "outputs": [
    {
     "data": {
      "text/html": [
       "<div>\n",
       "<style>\n",
       "    .dataframe thead tr:only-child th {\n",
       "        text-align: right;\n",
       "    }\n",
       "\n",
       "    .dataframe thead th {\n",
       "        text-align: left;\n",
       "    }\n",
       "\n",
       "    .dataframe tbody tr th {\n",
       "        vertical-align: top;\n",
       "    }\n",
       "</style>\n",
       "<table border=\"1\" class=\"dataframe\">\n",
       "  <thead>\n",
       "    <tr style=\"text-align: right;\">\n",
       "      <th></th>\n",
       "      <th>x</th>\n",
       "    </tr>\n",
       "  </thead>\n",
       "  <tbody>\n",
       "    <tr>\n",
       "      <th>0</th>\n",
       "      <td>0.252851</td>\n",
       "    </tr>\n",
       "    <tr>\n",
       "      <th>1</th>\n",
       "      <td>-1.034562</td>\n",
       "    </tr>\n",
       "    <tr>\n",
       "      <th>2</th>\n",
       "      <td>3.319558</td>\n",
       "    </tr>\n",
       "    <tr>\n",
       "      <th>3</th>\n",
       "      <td>4.552363</td>\n",
       "    </tr>\n",
       "    <tr>\n",
       "      <th>4</th>\n",
       "      <td>-0.775995</td>\n",
       "    </tr>\n",
       "  </tbody>\n",
       "</table>\n",
       "</div>"
      ],
      "text/plain": [
       "          x\n",
       "0  0.252851\n",
       "1 -1.034562\n",
       "2  3.319558\n",
       "3  4.552363\n",
       "4 -0.775995"
      ]
     },
     "execution_count": 39,
     "metadata": {},
     "output_type": "execute_result"
    }
   ],
   "source": [
    "df = pd.read_csv(\"bimodal_example.csv\")\n",
    "df.head(n=5)"
   ]
  },
  {
   "cell_type": "code",
   "execution_count": 40,
   "metadata": {
    "collapsed": true,
    "slideshow": {
     "slide_type": "slide"
    }
   },
   "outputs": [],
   "source": [
    "data = df.x"
   ]
  },
  {
   "cell_type": "code",
   "execution_count": 41,
   "metadata": {
    "slideshow": {
     "slide_type": "slide"
    }
   },
   "outputs": [
    {
     "data": {
      "image/png": "[encoded data removed]",
      "text/plain": [
       "<matplotlib.figure.Figure at 0x119943f60>"
      ]
     },
     "metadata": {},
     "output_type": "display_data"
    }
   ],
   "source": [
    "sns.distplot(data,\n",
    "             kde=False);"
   ]
  },
  {
   "cell_type": "markdown",
   "metadata": {
    "slideshow": {
     "slide_type": "fragment"
    }
   },
   "source": [
    "Is the normal distribution a useful model for the data?"
   ]
  },
  {
   "cell_type": "code",
   "execution_count": 42,
   "metadata": {
    "slideshow": {
     "slide_type": "slide"
    }
   },
   "outputs": [
    {
     "data": {
      "image/png": "[encoded data removed]",
      "text/plain": [
       "<matplotlib.figure.Figure at 0x1192a70b8>"
      ]
     },
     "metadata": {},
     "output_type": "display_data"
    }
   ],
   "source": [
    "sns.distplot(data,\n",
    "             fit=stats.norm,\n",
    "             kde=False,);"
   ]
  },
  {
   "cell_type": "markdown",
   "metadata": {
    "slideshow": {
     "slide_type": "fragment"
    }
   },
   "source": [
    "__TODO__: Plot a KDE on the data:"
   ]
  },
  {
   "cell_type": "code",
   "execution_count": 43,
   "metadata": {
    "slideshow": {
     "slide_type": "slide"
    }
   },
   "outputs": [
    {
     "data": {
      "image/png": "[encoded data removed]",
      "text/plain": [
       "<matplotlib.figure.Figure at 0x119534278>"
      ]
     },
     "metadata": {},
     "output_type": "display_data"
    }
   ],
   "source": [
    "df.hist(grid=False,\n",
    "       normed=True);\n",
    "sns.kdeplot(data,\n",
    "           legend=False);"
   ]
  },
  {
   "cell_type": "markdown",
   "metadata": {
    "slideshow": {
     "slide_type": "fragment"
    }
   },
   "source": [
    "__TODO__:  What model should we fit?"
   ]
  },
  {
   "cell_type": "markdown",
   "metadata": {
    "slideshow": {
     "slide_type": "fragment"
    }
   },
   "source": [
    "__Solution__:  \n",
    "> "
   ]
  },
  {
   "cell_type": "markdown",
   "metadata": {},
   "source": [
    "__TODO__:  Define the model:\n",
    "\n",
    "<br>\n",
    "<details><summary>\n",
    "Click here for a small hint…\n",
    "</summary>\n",
    "The model is should be the simplest that is able generate that figure\n",
    "</details>\n",
    "<br>\n",
    "<details><summary>\n",
    "Click here for a big hint…\n",
    "</summary>\n",
    "The model is two Normal distributions\n",
    "</details>"
   ]
  },
  {
   "cell_type": "markdown",
   "metadata": {},
   "source": [
    "__Solution__:   \n",
    "In the Normal mixture example, we have two Normal distributions $N(\\mu_1, \\sigma_1^2)$ and $N(\\mu_2, \\sigma_2^2)$. \n",
    "\n"
   ]
  },
  {
   "cell_type": "markdown",
   "metadata": {},
   "source": [
    "__TODO__:  List the model parameters:\n",
    "\n",
    "<br>\n",
    "<details><summary>\n",
    "Click here for a small hint…\n",
    "</summary>\n",
    "There are 5 paramaters\n",
    "</details>\n",
    "<br>\n",
    "<details><summary>\n",
    "Click here for a big hint…\n",
    "</summary>\n",
    "\n",
    "</details>\n"
   ]
  },
  {
   "cell_type": "markdown",
   "metadata": {},
   "source": [
    "__Solution__:   \n",
    "Let $w$ be the probability that the data comes from the first Normal, the parameter in this model is $\\theta = (w, \\mu_1, \\sigma_1^2, \\mu_2, \\sigma_2^2)$."
   ]
  },
  {
   "cell_type": "markdown",
   "metadata": {},
   "source": [
    "__TODO__:  Define pdf:"
   ]
  },
  {
   "cell_type": "markdown",
   "metadata": {},
   "source": [
    "__Solution__:  \n",
    "The PDF is:\n",
    "\n",
    "\n",
    "$$f(x | \\theta) = w \\  f_1(x \\ | \\  \\mu_1, \\sigma_1^2) + (1 - w) \\  f_2 (x  \\ | \\  \\mu_2, \\sigma_2^2) $$  \n"
   ]
  },
  {
   "cell_type": "markdown",
   "metadata": {},
   "source": [
    "$X$ is the observed data, $Z$ is the unobserved class membership.   \n",
    "\n",
    "Let $Z = 1$ if the data comes from the first Normal, and $0$ otherwise, then $E(Z) = w$. "
   ]
  },
  {
   "cell_type": "markdown",
   "metadata": {
    "slideshow": {
     "slide_type": "slide"
    }
   },
   "source": [
    "__TODO__:  Write the E  step. Either formally or informally."
   ]
  },
  {
   "cell_type": "markdown",
   "metadata": {},
   "source": [
    "__Solution__:  \n",
    "* In the E step we can obtain:   \n",
    "\n",
    "$$ \\pi_i = E(Z \\ | \\  x_i, \\theta^{(t)}) = \\frac{w^{(t)} \\ f_1(x_i \\ |\\ \\mu_1^{(t)}, \\sigma_1^{2^{(t)}})}{w^{(t)} \\ f_1(x_i \\ |\\ \\mu_1^{(t)}, \\sigma_1^{2^{(t)}}) + (1 - w^{(t)}) \\ f_2(x_i \\ |\\ \\mu_2^{(t)}, \\sigma_2^{2^{(t)}})} $$\n"
   ]
  },
  {
   "cell_type": "markdown",
   "metadata": {},
   "source": [
    "__TODO__:  Write the M step. Either formally or informally."
   ]
  },
  {
   "cell_type": "markdown",
   "metadata": {},
   "source": [
    "__Solution__:  \n",
    "* In the M step, we have the familiar MLE of the parameters:  \n",
    "\n",
    "$$ \\mu_1^{(t + 1)} = \\frac{\\sum_{i = 1}^n \\pi_i x_i}{\\sum_{i = 1}^n \\pi_i} $$\n",
    "\n",
    "\n",
    "\n",
    "$$ \\sigma_1^{2^{(t + 1)}} = \\frac{\\sum_{i = 1}^n \\pi_i (x_i - \\mu_1^{(t + 1)})^2}{\\sum_{i = 1}^n \\pi_i} $$  \n",
    "\n",
    "\n",
    "\n",
    "$$ \\mu_2^{(t + 1)} = \\frac{\\sum_{i = 1}^n (1 - \\pi_i) x_i}{\\sum_{i = 1}^n (1 - \\pi_i)} $$\n",
    "\n",
    "\n",
    "\n",
    "$$ \\sigma_2^{2^{(t + 1)}} = \\frac{\\sum_{i = 1}^n (1 - \\pi_i) (x_i - \\mu_2^{(t + 1)})^2}{\\sum_{i = 1}^n (1 - \\pi_i)} $$  \n",
    "\n",
    "\n",
    "\n",
    "$$ w^{(t + 1)} = \\frac{1}{n} \\sum_{i = 1}^n \\ \\pi_i $$  \n",
    "\n",
    "* Iterate these steps until convergence.  "
   ]
  },
  {
   "cell_type": "markdown",
   "metadata": {},
   "source": []
  },
  {
   "cell_type": "code",
   "execution_count": 51,
   "metadata": {
    "collapsed": true
   },
   "outputs": [],
   "source": []
  },
  {
   "cell_type": "code",
   "execution_count": 57,
   "metadata": {},
   "outputs": [
    {
     "name": "stdout",
     "output_type": "stream",
     "text": [
      "Best single Guassian: μ = 1.9, σ = 1.8\n"
     ]
    }
   ],
   "source": [
    "# Solution:  \n",
    "\n",
    "# uni_loglike = sum(log(g_single.pdf(d)) for d in data)\n",
    "# print('Log likelihood: {:4.6}'.format(uni_loglike))"
   ]
  },
  {
   "cell_type": "code",
   "execution_count": 58,
   "metadata": {
    "collapsed": true
   },
   "outputs": [],
   "source": [
    "# TODO: "
   ]
  },
  {
   "cell_type": "code",
   "execution_count": 59,
   "metadata": {},
   "outputs": [
    {
     "name": "stdout",
     "output_type": "stream",
     "text": [
      "Computing best model with random restarts...\n",
      "\n"
     ]
    },
    {
     "name": "stderr",
     "output_type": "stream",
     "text": [
      "/Users/brianspiering/anaconda3/envs/gmm/lib/python3.6/site-packages/ipykernel_launcher.py:13: RuntimeWarning: divide by zero encountered in double_scalars\n",
      "  del sys.path[0]\n"
     ]
    },
    {
     "name": "stdout",
     "output_type": "stream",
     "text": [
      "Done. 🙂\n"
     ]
    }
   ],
   "source": [
    "# Solution:  \n"
   ]
  },
  {
   "cell_type": "code",
   "execution_count": 75,
   "metadata": {},
   "outputs": [
    {
     "name": "stdout",
     "output_type": "stream",
     "text": [
      "Best Guassian Mixture:\n",
      "1st Guassian: μ = -0.037, σ = 1.0\n",
      "2nd Guassian: μ = 3.1, σ = 0.85\n",
      "Guassian mixture: 0.39\n"
     ]
    }
   ],
   "source": [
    "print('Best Guassian Mixture:')\n",
    "print(f'1st Guassian: μ = {best_mix.one.mu:.2}, σ = {best_mix.one.sigma:.2}')\n",
    "print(f'2nd Guassian: μ = {best_mix.two.mu:.2}, σ = {best_mix.two.sigma:.2}')\n",
    "print(f'Guassian mixture: {best_mix.mix:.2}')"
   ]
  },
  {
   "cell_type": "code",
   "execution_count": 74,
   "metadata": {},
   "outputs": [
    {
     "data": {
      "image/png": "[encoded data removed]",
      "text/plain": [
       "<matplotlib.figure.Figure at 0x11999b710>"
      ]
     },
     "metadata": {},
     "output_type": "display_data"
    }
   ],
   "source": []
  },
  {
   "cell_type": "code",
   "execution_count": 76,
   "metadata": {},
   "outputs": [
    {
     "data": {
      "text/plain": [
       "array([  1.17155602e-05,   1.39663604e-05,   1.66233097e-05,\n",
       "         1.97544897e-05,   2.34384129e-05,   2.77654460e-05,\n",
       "         3.28393971e-05,   3.87792819e-05,   4.57212839e-05,\n",
       "         5.38209227e-05,   6.32554468e-05,   7.42264659e-05,\n",
       "         8.69628384e-05,   1.01723828e-04,   1.18802548e-04,\n",
       "         1.38529695e-04,   1.61277606e-04,   1.87464625e-04,\n",
       "         2.17559801e-04,   2.52087926e-04,   2.91634907e-04,\n",
       "         3.36853475e-04,   3.88469231e-04,   4.47287011e-04,\n",
       "         5.14197564e-04,   5.90184514e-04,   6.76331589e-04,\n",
       "         7.73830069e-04,   8.83986429e-04,   1.00823011e-03,\n",
       "         1.14812135e-03,   1.30535907e-03,   1.48178862e-03,\n",
       "         1.67940942e-03,   1.90038234e-03,   2.14703662e-03,\n",
       "         2.42187645e-03,   2.72758683e-03,   3.06703867e-03,\n",
       "         3.44329305e-03,   3.85960435e-03,   4.31942220e-03,\n",
       "         4.82639199e-03,   5.38435386e-03,   5.99733991e-03,\n",
       "         6.66956948e-03,   7.40544234e-03,   8.20952965e-03,\n",
       "         9.08656241e-03,   1.00414174e-02,   1.10791002e-02,\n",
       "         1.22047259e-02,   1.34234960e-02,   1.47406730e-02,\n",
       "         1.61615515e-02,   1.76914268e-02,   1.93355591e-02,\n",
       "         2.10991362e-02,   2.29872323e-02,   2.50047641e-02,\n",
       "         2.71564442e-02,   2.94467328e-02,   3.18797856e-02,\n",
       "         3.44594020e-02,   3.71889698e-02,   4.00714102e-02,\n",
       "         4.31091215e-02,   4.63039228e-02,   4.96569985e-02,\n",
       "         5.31688433e-02,   5.68392091e-02,   6.06670542e-02,\n",
       "         6.46504952e-02,   6.87867628e-02,   7.30721614e-02,\n",
       "         7.75020345e-02,   8.20707344e-02,   8.67715996e-02,\n",
       "         9.15969377e-02,   9.65380167e-02,   1.01585064e-01,\n",
       "         1.06727272e-01,   1.11952818e-01,   1.17248883e-01,\n",
       "         1.22601693e-01,   1.27996557e-01,   1.33417923e-01,\n",
       "         1.38849439e-01,   1.44274026e-01,   1.49673957e-01,\n",
       "         1.55030946e-01,   1.60326244e-01,   1.65540747e-01,\n",
       "         1.70655098e-01,   1.75649813e-01,   1.80505393e-01,\n",
       "         1.85202455e-01,   1.89721857e-01,   1.94044822e-01,\n",
       "         1.98153076e-01,   2.02028968e-01,   2.05655599e-01,\n",
       "         2.09016947e-01,   2.12097978e-01,   2.14884763e-01,\n",
       "         2.17364584e-01,   2.19526025e-01,   2.21359064e-01,\n",
       "         2.22855149e-01,   2.24007265e-01,   2.24809988e-01,\n",
       "         2.25259526e-01,   2.25353755e-01,   2.25092227e-01,\n",
       "         2.24476180e-01,   2.23508527e-01,   2.22193831e-01,\n",
       "         2.20538270e-01,   2.18549591e-01,   2.16237046e-01,\n",
       "         2.13611322e-01,   2.10684460e-01,   2.07469761e-01,\n",
       "         2.03981685e-01,   2.00235747e-01,   1.96248396e-01,\n",
       "         1.92036900e-01,   1.87619220e-01,   1.83013881e-01,\n",
       "         1.78239848e-01,   1.73316393e-01,   1.68262969e-01,\n",
       "         1.63099084e-01,   1.57844176e-01,   1.52517497e-01,\n",
       "         1.47137999e-01,   1.41724224e-01,   1.36294207e-01,\n",
       "         1.30865381e-01,   1.25454492e-01,   1.20077524e-01,\n",
       "         1.14749632e-01,   1.09485082e-01,   1.04297202e-01,\n",
       "         9.91983475e-02,   9.41998656e-02,   8.93120784e-02,\n",
       "         8.45442695e-02,   7.99046811e-02,   7.54005193e-02,\n",
       "         7.10379660e-02,   6.68221994e-02,   6.27574200e-02,\n",
       "         5.88468830e-02,   5.50929355e-02,   5.14970593e-02,\n",
       "         4.80599167e-02,   4.47813997e-02,   4.16606827e-02,\n",
       "         3.86962756e-02,   3.58860798e-02,   3.32274443e-02,\n",
       "         3.07172211e-02,   2.83518223e-02,   2.61272739e-02,\n",
       "         2.40392706e-02,   2.20832272e-02,   2.02543291e-02,\n",
       "         1.85475799e-02,   1.69578467e-02,   1.54799028e-02,\n",
       "         1.41084667e-02,   1.28382396e-02,   1.16639379e-02,\n",
       "         1.05803246e-02,   9.58223571e-03,   8.66460512e-03,\n",
       "         7.82248551e-03,   7.05106677e-03,   6.34569148e-03,\n",
       "         5.70186785e-03,   5.11527997e-03,   4.58179587e-03,\n",
       "         4.09747329e-03,   3.65856347e-03,   3.26151307e-03,\n",
       "         2.90296446e-03,   2.57975452e-03,   2.28891209e-03,\n",
       "         2.02765429e-03,   1.79338187e-03,   1.58367371e-03,\n",
       "         1.39628060e-03,   1.22911854e-03,   1.08026151e-03,\n",
       "         9.47934008e-04,   8.30503317e-04,   7.26471708e-04,\n",
       "         6.34468561e-04,   5.53242552e-04])"
      ]
     },
     "execution_count": 76,
     "metadata": {},
     "output_type": "execute_result"
    }
   ],
   "source": [
    "g_single"
   ]
  },
  {
   "cell_type": "code",
   "execution_count": 73,
   "metadata": {},
   "outputs": [
    {
     "data": {
      "image/png": "[encoded data removed]",
      "text/plain": [
       "<matplotlib.figure.Figure at 0x116f549e8>"
      ]
     },
     "metadata": {},
     "output_type": "display_data"
    }
   ],
   "source": [
    "sns.distplot(data, bins=20, kde=False, norm_hist=True)\n",
    "g_both = [best_mix.pdf(e) for e in x]\n",
    "plt.plot(x, g_both, label='gaussian mixture');\n",
    "plt.legend();"
   ]
  },
  {
   "cell_type": "markdown",
   "metadata": {},
   "source": [
    "----\n",
    "Challenge Activities\n",
    "------\n",
    "\n",
    "Plot the estimated pdfs, univariate and mixture"
   ]
  },
  {
   "cell_type": "markdown",
   "metadata": {},
   "source": [
    "----\n",
    "Lame attempts at plotting\n",
    "----"
   ]
  },
  {
   "cell_type": "code",
   "execution_count": null,
   "metadata": {
    "collapsed": true
   },
   "outputs": [],
   "source": [
    "# Plot fitted values\n",
    "# df.hist(grid=False);\n",
    "# x_values = x_values.sort()#np.arange(-4, 5, 0.001)\n",
    "# plt.plot(x_values, stats.norm.pdf(x_values, g_single.mu, g_single.sigma**2)*10); # pdf has wrong scale"
   ]
  },
  {
   "cell_type": "code",
   "execution_count": null,
   "metadata": {},
   "outputs": [],
   "source": [
    "# Automated fit values; should be the same as my model\n",
    "sns.distplot(data, fit=stats.norm, kde=False);"
   ]
  },
  {
   "cell_type": "code",
   "execution_count": null,
   "metadata": {},
   "outputs": [],
   "source": [
    "# Lame mu line\n",
    "df.hist(grid=False);\n",
    "plt.axvline(g_single.mu, color='g', linestyle='solid');"
   ]
  },
  {
   "cell_type": "code",
   "execution_count": null,
   "metadata": {
    "collapsed": true
   },
   "outputs": [],
   "source": [
    "# TODO: plot both estimated univariate normal pdfs\n",
    "# df.hist(grid=False);"
   ]
  },
  {
   "cell_type": "code",
   "execution_count": null,
   "metadata": {},
   "outputs": [],
   "source": [
    "# If 1 mu line is lame, two are lamer!\n",
    "df.hist(grid=False);\n",
    "plt.axvline(best_mix.one.mu, color='r', linestyle='solid');\n",
    "plt.axvline(best_mix.two.mu, color='m', linestyle='solid');"
   ]
  },
  {
   "cell_type": "markdown",
   "metadata": {
    "slideshow": {
     "slide_type": "slide"
    }
   },
   "source": [
    "<br>\n",
    "<br>"
   ]
  }
 ],
 "metadata": {
  "anaconda-cloud": {},
  "kernelspec": {
   "display_name": "Python 3",
   "language": "python",
   "name": "python3"
  },
  "language_info": {
   "codemirror_mode": {
    "name": "ipython",
    "version": 3
   },
   "file_extension": ".py",
   "mimetype": "text/x-python",
   "name": "python",
   "nbconvert_exporter": "python",
   "pygments_lexer": "ipython3",
   "version": "3.6.1"
  }
 },
 "nbformat": 4,
 "nbformat_minor": 1
}
