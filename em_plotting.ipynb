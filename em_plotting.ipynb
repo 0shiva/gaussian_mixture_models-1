{
 "cells": [
  {
   "cell_type": "markdown",
   "metadata": {
    "slideshow": {
     "slide_type": "slide"
    }
   },
   "source": [
    "Expectation–Maximization (EM) Algorithm Lab\n",
    "-----\n"
   ]
  },
  {
   "cell_type": "markdown",
   "metadata": {
    "slideshow": {
     "slide_type": "slide"
    }
   },
   "source": [
    "By The End Of This Session You Should Be Able To:\n",
    "----\n",
    "- Apply EM to find the mixture of two Guassian Distrubtions"
   ]
  },
  {
   "cell_type": "code",
   "execution_count": 1,
   "metadata": {
    "collapsed": true,
    "slideshow": {
     "slide_type": "skip"
    }
   },
   "outputs": [],
   "source": [
    "reset -fs"
   ]
  },
  {
   "cell_type": "code",
   "execution_count": 2,
   "metadata": {
    "collapsed": true,
    "slideshow": {
     "slide_type": "slide"
    }
   },
   "outputs": [],
   "source": [
    "from random import uniform\n",
    "from math import sqrt, log, exp, pi\n",
    "\n",
    "import matplotlib.pyplot as plt\n",
    "import numpy as np\n",
    "from numpy import mean, std\n",
    "import pandas as pd\n",
    "from scipy import stats\n",
    "import seaborn as sns\n",
    "\n",
    "%matplotlib inline"
   ]
  },
  {
   "cell_type": "code",
   "execution_count": 3,
   "metadata": {
    "slideshow": {
     "slide_type": "slide"
    }
   },
   "outputs": [
    {
     "data": {
      "text/html": [
       "<div>\n",
       "<style>\n",
       "    .dataframe thead tr:only-child th {\n",
       "        text-align: right;\n",
       "    }\n",
       "\n",
       "    .dataframe thead th {\n",
       "        text-align: left;\n",
       "    }\n",
       "\n",
       "    .dataframe tbody tr th {\n",
       "        vertical-align: top;\n",
       "    }\n",
       "</style>\n",
       "<table border=\"1\" class=\"dataframe\">\n",
       "  <thead>\n",
       "    <tr style=\"text-align: right;\">\n",
       "      <th></th>\n",
       "      <th>x</th>\n",
       "    </tr>\n",
       "  </thead>\n",
       "  <tbody>\n",
       "    <tr>\n",
       "      <th>0</th>\n",
       "      <td>0.252851</td>\n",
       "    </tr>\n",
       "    <tr>\n",
       "      <th>1</th>\n",
       "      <td>-1.034562</td>\n",
       "    </tr>\n",
       "  </tbody>\n",
       "</table>\n",
       "</div>"
      ],
      "text/plain": [
       "          x\n",
       "0  0.252851\n",
       "1 -1.034562"
      ]
     },
     "execution_count": 3,
     "metadata": {},
     "output_type": "execute_result"
    }
   ],
   "source": [
    "df = pd.read_csv(\"../data/em_example.csv\")\n",
    "df.head(n=2)"
   ]
  },
  {
   "cell_type": "markdown",
   "metadata": {
    "slideshow": {
     "slide_type": "slide"
    }
   },
   "source": [
    "__TODO__: Plot distribution"
   ]
  },
  {
   "cell_type": "code",
   "execution_count": 4,
   "metadata": {
    "slideshow": {
     "slide_type": "slide"
    }
   },
   "outputs": [
    {
     "data": {
      "image/png": "[encoded data removed]",
      "text/plain": [
       "<matplotlib.figure.Figure at 0x106226390>"
      ]
     },
     "metadata": {},
     "output_type": "display_data"
    }
   ],
   "source": [
    "sns.distplot(df, bins=30);"
   ]
  },
  {
   "cell_type": "markdown",
   "metadata": {
    "slideshow": {
     "slide_type": "fragment"
    }
   },
   "source": [
    "__TODO__: Is the normal distribution a useful model for the data?"
   ]
  },
  {
   "cell_type": "markdown",
   "metadata": {
    "collapsed": true,
    "slideshow": {
     "slide_type": "slide"
    }
   },
   "source": [
    "Not really. It's bimodal, so a gaussian won't model the data well."
   ]
  },
  {
   "cell_type": "markdown",
   "metadata": {
    "slideshow": {
     "slide_type": "fragment"
    }
   },
   "source": [
    "__TODO__: Plot a Kernel Density Estimation (KDE) on the data:"
   ]
  },
  {
   "cell_type": "code",
   "execution_count": 5,
   "metadata": {
    "slideshow": {
     "slide_type": "slide"
    }
   },
   "outputs": [
    {
     "data": {
      "image/png": "[encoded data removed]",
      "text/plain": [
       "<matplotlib.figure.Figure at 0x113c4a278>"
      ]
     },
     "metadata": {},
     "output_type": "display_data"
    }
   ],
   "source": [
    "sns.distplot(df, bins=30);"
   ]
  },
  {
   "cell_type": "markdown",
   "metadata": {
    "slideshow": {
     "slide_type": "fragment"
    }
   },
   "source": [
    "__TODO__:  What model should we fit?"
   ]
  },
  {
   "cell_type": "markdown",
   "metadata": {
    "collapsed": true,
    "slideshow": {
     "slide_type": "fragment"
    }
   },
   "source": [
    "Gaussian mixture model"
   ]
  },
  {
   "cell_type": "markdown",
   "metadata": {},
   "source": [
    "__TODO__:  Define the model:\n",
    "\n",
    "<br>\n",
    "<details><summary>\n",
    "Click here for a small hint…\n",
    "</summary>\n",
    "The model is should be the simplest that is able generate that figure\n",
    "</details>\n",
    "<br>\n",
    "<details><summary>\n",
    "Click here for a big hint…\n",
    "</summary>\n",
    "The model is two Normal distributions\n",
    "</details>"
   ]
  },
  {
   "cell_type": "markdown",
   "metadata": {
    "collapsed": true
   },
   "source": [
    "Let $X$ be the observed values, $Z$ be the assignment of a single observed value to one of two gaussian distributions, $p$ be the proportion of samples drawn from distribution 1, and $\\boldsymbol{\\theta}$ be the individual parameters of the 2 gaussians.\n",
    "\n",
    "$$X = x_1,\\space x_2,...,\\space x_n,\\space x_i \\in \\mathbb{R}^m$$\n",
    "$$Z \\sim {Bernoulli}(p),\\space p \\in [0, 1]$$\n",
    "$$\\boldsymbol{\\theta} = \\mu_1,\\space \\mu_2,\\space \\sigma^2_1,\\space \\sigma^2_2$$"
   ]
  },
  {
   "cell_type": "markdown",
   "metadata": {},
   "source": [
    "__TODO__:  List the model parameters:\n",
    "\n",
    "<br>\n",
    "<details><summary>\n",
    "Click here for a small hint…\n",
    "</summary>\n",
    "There are 5 paramaters\n",
    "</details>\n",
    "<br>\n",
    "<details><summary>\n",
    "Click here for a big hint…\n",
    "</summary>\n",
    "There are 5 paramaters: 4 of the them are Normal distributions, the last one is the probability of choosing one of them\n",
    "</details>\n"
   ]
  },
  {
   "cell_type": "markdown",
   "metadata": {
    "collapsed": true
   },
   "source": [
    "$\\mu$ and $\\sigma^2$ for each of the 2 gaussians, and $p$, the proportion of data points in gaussian 1"
   ]
  },
  {
   "cell_type": "markdown",
   "metadata": {},
   "source": [
    "__TODO__:  Define the probability density function (PDF):"
   ]
  },
  {
   "cell_type": "markdown",
   "metadata": {
    "collapsed": true
   },
   "source": [
    "recall that for $X \\sim N(\\mu,\\space \\sigma^2)$, $f(x\\space |\\space \\mu, \\space\\sigma^2) = \\frac{e^{-\\frac{(x - \\mu^2)}{2\\sigma^2}}}{\\sqrt{2\\pi\\sigma^2}}$\n",
    "\n",
    "$$f(x\\space |\\space p) = p*{f(x\\space|\\space\\mu_1, \\space\\sigma^2_1)} + (1-p)*f(x\\space |\\space \\mu_2, \\space\\sigma^2_2), \\space p \\in [0, 1]$$"
   ]
  },
  {
   "cell_type": "markdown",
   "metadata": {},
   "source": [
    "$X$ is the observed data, $Z$ is the unobserved class membership.   \n",
    "\n",
    "Let $Z = 1$ if the data comes from the first Normal, and $0$ otherwise, then $E(Z) = w$. "
   ]
  },
  {
   "cell_type": "markdown",
   "metadata": {
    "slideshow": {
     "slide_type": "slide"
    }
   },
   "source": [
    "__TODO__:  Write the E  step. Either formally or informally."
   ]
  },
  {
   "cell_type": "markdown",
   "metadata": {
    "collapsed": true
   },
   "source": [
    "Given estimated values of $\\boldsymbol{\\theta}$, set $z_i = {argmax}_z \\space f(x_i | z)$ "
   ]
  },
  {
   "cell_type": "markdown",
   "metadata": {},
   "source": [
    "__TODO__:  Write the M step. Either formally or informally."
   ]
  },
  {
   "cell_type": "markdown",
   "metadata": {
    "collapsed": true
   },
   "source": [
    "Given class distributions $Z$, set $\\boldsymbol{\\theta} = {argmax}_\\theta \\ln{f(X, Z)}$"
   ]
  },
  {
   "cell_type": "code",
   "execution_count": 6,
   "metadata": {
    "collapsed": true
   },
   "outputs": [],
   "source": [
    "class Gaussian:\n",
    "    \"Model univariate Gaussian\"\n",
    "\n",
    "    def __init__(self, mu, sigma):\n",
    "        self.mu = mu\n",
    "        self.sigma = sigma\n",
    "\n",
    "    def __repr__(self):\n",
    "        return 'Gaussian({0:4.6}, {1:4.6})'.format(self.mu, self.sigma)\n",
    "\n",
    "    def pdf(self, datum):\n",
    "        \"Probability of a data point given the current parameters\"\n",
    "        u = (datum - self.mu) / abs(self.sigma)\n",
    "        y = (1 / (sqrt(2 * pi) * abs(self.sigma))) * exp(-u * u / 2)\n",
    "        return y\n"
   ]
  },
  {
   "cell_type": "code",
   "execution_count": 7,
   "metadata": {
    "collapsed": true
   },
   "outputs": [],
   "source": [
    "# TODO:  Complete Gaussian Mixture class \n",
    "class GaussianMixture:\n",
    "    \"Model mixture of two univariate Gaussians and their EM estimation\"\n",
    "\n",
    "    def __init__(self, data, sigma_min=.1, sigma_max=1, mix=.5):\n",
    "        self.data = data\n",
    "        self.one = Gaussian(mu=np.random.uniform(data.min(), data.max()),\n",
    "                            sigma=np.random.uniform(sigma_min, sigma_max)) \n",
    "        self.two = Gaussian(mu=np.random.uniform(data.min(), data.max()),\n",
    "                            sigma=np.random.uniform(sigma_min, sigma_max))\n",
    "        self.mix = mix\n",
    "\n",
    "    def Estep(self):\n",
    "        \"Perform an E(stimation)-step, freshening up self.loglike in the process\"\n",
    "        self.z = np.array([self.one.pdf(x)*self.mix/np.sum([self.one.pdf(x)*self.mix, self.two.pdf(x)*(1-self.mix)]) for x in self.data])\n",
    "\n",
    "    def Mstep(self):\n",
    "        \"Perform an M(aximization)-step\"\n",
    "        self.mix = self.z.mean()\n",
    "        self.one.mu = np.dot(self.z, self.data)/(np.sum(self.z)+ 1e-5)\n",
    "        self.one.sigma = np.dot(self.z, (self.data - self.one.mu)**2)/(np.sum(self.z) + 1e-5)\n",
    "        self.two.mu = np.dot(1-self.z, self.data)/(np.sum(1-self.z)+ 1e-5)\n",
    "        self.two.sigma = np.dot(1-self.z, (self.data - self.two.mu)**2)/(np.sum(1-self.z) + 1e-5)\n",
    "\n",
    "        \n",
    "    def iterate(self, N=1):\n",
    "        \"Perform N iterations, then compute log-likelihood\"\n",
    "        for _ in range(N):\n",
    "            self.Estep()\n",
    "            self.Mstep()\n",
    "            if np.isclose(self.mix, 0) or np.isclose(self.mix, 1):\n",
    "                break\n",
    "    \n",
    "    def log_likelihood(self):\n",
    "        data_1 = self.data[self.z >= .5]\n",
    "        data_2 = self.data[self.z < .5]\n",
    "        log_like_1 = np.sum(np.log(self.one.pdf(x)) for x in data_1)\n",
    "        log_like_2 = np.sum(np.log(self.two.pdf(x)) for x in data_2)\n",
    "        return log_like_1 + log_like_2\n",
    "    \n",
    "    def pdf(self, x):\n",
    "        return (self.mix)*self.one.pdf(x) + (1-self.mix)*self.two.pdf(x)\n",
    "\n",
    "    def __repr__(self):\n",
    "        return 'GaussianMixture({0}, {1}, mix={2.03})'.format(self.one, \n",
    "                                                        self.two, self.mix)\n",
    "\n",
    "    def __str__(self):\n",
    "        return 'Mixture: {0}, {1}, mix={2:.03})'.format(self.one, \n",
    "                                                        self.two, self.mix)"
   ]
  },
  {
   "cell_type": "code",
   "execution_count": 8,
   "metadata": {
    "collapsed": true
   },
   "outputs": [],
   "source": [
    "data = np.array(df.x)"
   ]
  },
  {
   "cell_type": "code",
   "execution_count": 9,
   "metadata": {
    "collapsed": true
   },
   "outputs": [],
   "source": [
    "# TODO: Find best single Gaussian model"
   ]
  },
  {
   "cell_type": "code",
   "execution_count": 10,
   "metadata": {},
   "outputs": [
    {
     "name": "stdout",
     "output_type": "stream",
     "text": [
      "Gaussian(1.86285, 3.13367)\n"
     ]
    }
   ],
   "source": [
    "x_bar = data.mean()\n",
    "x_var = data.var()\n",
    "best_gaussian = Gaussian(x_bar, x_var)\n",
    "print(best_gaussian)"
   ]
  },
  {
   "cell_type": "code",
   "execution_count": 11,
   "metadata": {
    "collapsed": true
   },
   "outputs": [],
   "source": [
    "# TODO: Find best Mixture Gaussian model"
   ]
  },
  {
   "cell_type": "code",
   "execution_count": 12,
   "metadata": {
    "collapsed": true,
    "scrolled": true
   },
   "outputs": [],
   "source": [
    "import warnings\n",
    "warnings.filterwarnings('ignore')\n",
    "\n",
    "n_restarts = 10000\n",
    "best_loglikelihood = -np.inf\n",
    "g_mix = None\n",
    "\n",
    "for _ in range(n_restarts):\n",
    "    g_mm = GaussianMixture(data)\n",
    "    g_mm.iterate(N=10)\n",
    "    log_like = g_mm.log_likelihood()\n",
    "    if (log_like > best_loglikelihood) and ((g_mm.mix > .1) and (g_mm.mix < .9)):\n",
    "        best_log_like = log_like\n",
    "        g_mix = g_mm"
   ]
  },
  {
   "cell_type": "code",
   "execution_count": 13,
   "metadata": {},
   "outputs": [
    {
     "name": "stdout",
     "output_type": "stream",
     "text": [
      "Best Guassian Mixture:\n",
      "1st Guassian: μ = -0.18, σ = 0.78\n",
      "2nd Guassian: μ = 3.0, σ = 0.74\n",
      "Guassian mixture: 0.36\n",
      "\n",
      "\n",
      "Should be ~ like this:\n",
      "Best Guassian Mixture:\n",
      "1st Guassian: μ = 2.6, σ = 1.2\n",
      "2nd Guassian: μ = -0.48, σ = 0.8\n",
      "Guassian mixture: 0.75\n",
      "\n"
     ]
    }
   ],
   "source": [
    "print('Best Guassian Mixture:')\n",
    "print('1st Guassian: μ = {:.2}, σ = {:.2}'.format(g_mix.one.mu, g_mix.one.sigma))\n",
    "print('2nd Guassian: μ = {:.2}, σ = {:.2}'.format(g_mix.two.mu, g_mix.two.sigma))\n",
    "print(f'Guassian mixture: {g_mix.mix:.2}')\n",
    "\n",
    "print(\"\"\"\n",
    "\n",
    "Should be ~ like this:\n",
    "Best Guassian Mixture:\n",
    "1st Guassian: μ = 2.6, σ = 1.2\n",
    "2nd Guassian: μ = -0.48, σ = 0.8\n",
    "Guassian mixture: 0.75\n",
    "\"\"\")"
   ]
  },
  {
   "cell_type": "markdown",
   "metadata": {},
   "source": [
    "----\n",
    "Challenge Activities\n",
    "------\n",
    "\n",
    "Plot the estimated pdfs, univariate and mixture:"
   ]
  },
  {
   "cell_type": "code",
   "execution_count": 16,
   "metadata": {},
   "outputs": [
    {
     "data": {
      "image/png": "[encoded data removed]",
      "text/plain": [
       "<matplotlib.figure.Figure at 0x113c4a160>"
      ]
     },
     "metadata": {},
     "output_type": "display_data"
    }
   ],
   "source": [
    "sns.distplot(data, bins=20, kde=False, norm_hist=True, label='data')\n",
    "x = np.linspace(-6, 8, 200)\n",
    "g_1 = stats.norm(g_mix.one.mu, g_mix.one.sigma).pdf(x)\n",
    "g_2 = stats.norm(g_mix.two.mu, g_mix.two.sigma).pdf(x)\n",
    "g_both = [g_mix.pdf(e) for e in x]\n",
    "g_single = stats.norm(best_gaussian.mu, best_gaussian.sigma).pdf(x)\n",
    "#sns.plt.plot(x, g_1, label='gaussian 1')\n",
    "#sns.plt.plot(x, g_2, label='gaussian 2')\n",
    "sns.plt.plot(x, g_single, label='single gaussian')\n",
    "sns.plt.plot(x, g_both, label='gaussian mixture')\n",
    "sns.plt.legend();"
   ]
  },
  {
   "cell_type": "code",
   "execution_count": null,
   "metadata": {
    "collapsed": true
   },
   "outputs": [],
   "source": [
    "sns.kdeplot(stats.norm(-0.16761999006936099,0.82085813149246989).rvs(500),label='N1')\n",
    "sns.kdeplot(stats.norm(3.0268105658433542,0.81077573585302898).rvs(500),label='N2')\n",
    "plt.hist(df.x, normed=True,label='true data');"
   ]
  },
  {
   "cell_type": "markdown",
   "metadata": {
    "slideshow": {
     "slide_type": "slide"
    }
   },
   "source": [
    "<br>\n",
    "<br>"
   ]
  }
 ],
 "metadata": {
  "anaconda-cloud": {},
  "kernelspec": {
   "display_name": "Python 3",
   "language": "python",
   "name": "python3"
  },
  "language_info": {
   "codemirror_mode": {
    "name": "ipython",
    "version": 3
   },
   "file_extension": ".py",
   "mimetype": "text/x-python",
   "name": "python",
   "nbconvert_exporter": "python",
   "pygments_lexer": "ipython3",
   "version": "3.6.1"
  }
 },
 "nbformat": 4,
 "nbformat_minor": 1
}
