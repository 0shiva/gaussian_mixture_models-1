{
 "cells": [
  {
   "cell_type": "markdown",
   "metadata": {
    "slideshow": {
     "slide_type": "slide"
    }
   },
   "source": [
    "A Gentle into Gaussian Mixture Models (GMM) & Expectation–Maximization (EM) Algorithm  \n",
    "-----\n",
    "<br>\n",
    "<center><img src=\"images/paranormal.jpg\" width=\"700\"/></center>"
   ]
  },
  {
   "cell_type": "markdown",
   "metadata": {},
   "source": [
    "By The End Of This Session You Should Be Able To:\n",
    "----\n",
    "\n",
    "- Describe the Gaussian Distribution\n",
    "- Explain how Gaussian Mixture Models (GMM) are a logical extension\n",
    "- List the steps of the Expectation–Maximization (EM) algorithm\n",
    "- Apply EM to find a GMM"
   ]
  },
  {
   "cell_type": "markdown",
   "metadata": {},
   "source": [
    "Normal Distribution: A Pretty Picture\n",
    "------\n",
    "<center><img src=\"images/normal.png\" width=\"700\"/></center>"
   ]
  },
  {
   "cell_type": "markdown",
   "metadata": {},
   "source": [
    "Normal Distribution: Features & Benefits\n",
    "------\n",
    "\n",
    "- Has mean & variance/standard deviation, ~$N(\\mu, \\sigma^2)$\n",
    "- Function is well known\n",
    "- Most of mass is in the middle\n",
    "- Symmetrical\n",
    "- Goes from -∞ to ∞"
   ]
  },
  {
   "cell_type": "markdown",
   "metadata": {},
   "source": [
    "Normal Distribution: In Code\n",
    "------\n"
   ]
  },
  {
   "cell_type": "code",
   "execution_count": 1,
   "metadata": {
    "collapsed": true
   },
   "outputs": [],
   "source": [
    "reset -fs"
   ]
  },
  {
   "cell_type": "code",
   "execution_count": 2,
   "metadata": {
    "collapsed": true
   },
   "outputs": [],
   "source": [
    "import matplotlib.pyplot as plt\n",
    "import numpy as np\n",
    "from scipy import stats\n",
    "import seaborn as sns\n",
    "\n",
    "sns.set_style(\"white\")\n",
    "%matplotlib inline"
   ]
  },
  {
   "cell_type": "code",
   "execution_count": 3,
   "metadata": {},
   "outputs": [
    {
     "data": {
      "image/png": "[encoded data removed]",
      "text/plain": [
       "<matplotlib.figure.Figure at 0x1023e4470>"
      ]
     },
     "metadata": {},
     "output_type": "display_data"
    }
   ],
   "source": [
    "x = np.linspace(start=-10, stop=10, num=1000)\n",
    "y = stats.norm.pdf(x, loc=0, scale=1.5) \n",
    "plt.plot(x, y);"
   ]
  },
  {
   "cell_type": "markdown",
   "metadata": {},
   "source": [
    "Discussion: What are example of data you can model with a normal distribution?\n",
    "-----\n",
    "\n",
    "<br>\n",
    "<details><summary>\n",
    "Click here for the solution…\n",
    "</summary>\n",
    "- Physical quantities (height, weight, length, ...)  \n",
    "- Test scores  \n",
    "- Salary  \n",
    "- Anything that is sum of many independent processes. This is the heart of the Central Limit Theorem (CLT).  \n",
    "</details>"
   ]
  },
  {
   "cell_type": "markdown",
   "metadata": {},
   "source": [
    "Not Everything is Normal\n",
    "------\n",
    "\n",
    "<center><img src=\"images/abnormal.png\" width=\"700\"/></center>"
   ]
  },
  {
   "cell_type": "markdown",
   "metadata": {
    "collapsed": true
   },
   "source": [
    "Sometimes You Have 2 Gaussians\n",
    "-----\n",
    "\n",
    "<center><img src=\"images/2_gaus.png\" width=\"700\"/></center>"
   ]
  },
  {
   "cell_type": "markdown",
   "metadata": {},
   "source": [
    "DEMO!!!\n",
    "----"
   ]
  },
  {
   "cell_type": "code",
   "execution_count": 4,
   "metadata": {
    "collapsed": true
   },
   "outputs": [],
   "source": [
    "import pandas as pd"
   ]
  },
  {
   "cell_type": "code",
   "execution_count": 5,
   "metadata": {},
   "outputs": [
    {
     "data": {
      "text/html": [
       "<div>\n",
       "<style>\n",
       "    .dataframe thead tr:only-child th {\n",
       "        text-align: right;\n",
       "    }\n",
       "\n",
       "    .dataframe thead th {\n",
       "        text-align: left;\n",
       "    }\n",
       "\n",
       "    .dataframe tbody tr th {\n",
       "        vertical-align: top;\n",
       "    }\n",
       "</style>\n",
       "<table border=\"1\" class=\"dataframe\">\n",
       "  <thead>\n",
       "    <tr style=\"text-align: right;\">\n",
       "      <th></th>\n",
       "      <th>x</th>\n",
       "    </tr>\n",
       "  </thead>\n",
       "  <tbody>\n",
       "    <tr>\n",
       "      <th>0</th>\n",
       "      <td>0.252851</td>\n",
       "    </tr>\n",
       "    <tr>\n",
       "      <th>1</th>\n",
       "      <td>-1.034562</td>\n",
       "    </tr>\n",
       "    <tr>\n",
       "      <th>2</th>\n",
       "      <td>3.319558</td>\n",
       "    </tr>\n",
       "    <tr>\n",
       "      <th>3</th>\n",
       "      <td>4.552363</td>\n",
       "    </tr>\n",
       "    <tr>\n",
       "      <th>4</th>\n",
       "      <td>-0.775995</td>\n",
       "    </tr>\n",
       "  </tbody>\n",
       "</table>\n",
       "</div>"
      ],
      "text/plain": [
       "          x\n",
       "0  0.252851\n",
       "1 -1.034562\n",
       "2  3.319558\n",
       "3  4.552363\n",
       "4 -0.775995"
      ]
     },
     "execution_count": 5,
     "metadata": {},
     "output_type": "execute_result"
    }
   ],
   "source": [
    "df = pd.read_csv(\"bimodal_example.csv\")\n",
    "df.head(n=5)"
   ]
  },
  {
   "cell_type": "code",
   "execution_count": 6,
   "metadata": {
    "collapsed": true
   },
   "outputs": [],
   "source": [
    "data = df.x"
   ]
  },
  {
   "cell_type": "code",
   "execution_count": 7,
   "metadata": {},
   "outputs": [
    {
     "data": {
      "image/png": "[encoded data removed]",
      "text/plain": [
       "<matplotlib.figure.Figure at 0x110e85588>"
      ]
     },
     "metadata": {},
     "output_type": "display_data"
    }
   ],
   "source": [
    "sns.distplot(data,\n",
    "             bins=20,\n",
    "             kde=False);"
   ]
  },
  {
   "cell_type": "markdown",
   "metadata": {},
   "source": [
    "Is the normal distribution a useful model for the data?"
   ]
  },
  {
   "cell_type": "code",
   "execution_count": 8,
   "metadata": {},
   "outputs": [
    {
     "data": {
      "image/png": "[encoded data removed]",
      "text/plain": [
       "<matplotlib.figure.Figure at 0x111026b38>"
      ]
     },
     "metadata": {},
     "output_type": "display_data"
    }
   ],
   "source": [
    "sns.distplot(data,\n",
    "             fit=stats.norm,\n",
    "             bins=20,\n",
    "             kde=False,);"
   ]
  },
  {
   "cell_type": "markdown",
   "metadata": {},
   "source": [
    "What model should we fit?\n",
    "------\n",
    "\n",
    "<br>\n",
    "<details><summary>\n",
    "Click here for a hint…\n",
    "</summary>\n",
    "X appears to be a mixture of two Normal distributions\n",
    "</details>"
   ]
  },
  {
   "cell_type": "markdown",
   "metadata": {},
   "source": [
    "<br>\n",
    "<br> \n",
    "<br>\n",
    "\n",
    "----\n",
    "Define The Model\n",
    "-----\n",
    "\n",
    "Two Normal distributions $N(\\mu_1, \\sigma_1^2)$ and $N(\\mu_2, \\sigma_2^2)$. \n",
    "\n",
    "There are 5 paramaters: 4 of the them are Normal distributions and 1 more for the probability of choosing one of them.\n",
    "\n",
    "Let $w$ be the probability that the data comes from the first Normal, the parameter in this model is $\\theta = (w, \\mu_1, \\sigma_1^2, \\mu_2, \\sigma_2^2)$.\n",
    "\n",
    "The probability density function (PDF) is:\n",
    "\n",
    "$$f(x | \\theta) = w \\  f_1(x \\ | \\  \\mu_1, \\sigma_1^2) + (1 - w) \\  f_2 (x  \\ | \\  \\mu_2, \\sigma_2^2) $$  "
   ]
  },
  {
   "cell_type": "markdown",
   "metadata": {},
   "source": [
    "Fit The Model\n",
    "-----"
   ]
  },
  {
   "cell_type": "markdown",
   "metadata": {
    "slideshow": {
     "slide_type": "slide"
    }
   },
   "source": [
    "Expectation–Maximization (EM) Algorithm  \n",
    "-----\n",
    "<br>\n",
    "<center><img src=\"http://www.wilsonmongwe.co.za/wp-content/uploads/2015/07/400px-EM.jpg\" width=\"400\"/></center>"
   ]
  },
  {
   "cell_type": "markdown",
   "metadata": {
    "slideshow": {
     "slide_type": "slide"
    }
   },
   "source": [
    "What is Expectation–Maximization (EM) algorithm?\n",
    "------\n",
    "\n",
    "An iterative method for finding maximum likelihood (MLE) or maximum a posteriori (MAP) estimates of parameters in statistical models,when the model depends on unobserved latent variables"
   ]
  },
  {
   "cell_type": "markdown",
   "metadata": {
    "slideshow": {
     "slide_type": "slide"
    }
   },
   "source": [
    "Expectation–Maximization (EM) Workflow\n",
    "------\n",
    "<br>\n",
    "<center><img src=\"http://people.revoledu.com/kardi/tutorial/EM/images/EM_algorithm.png\" width=\"500\"/></center>"
   ]
  },
  {
   "cell_type": "markdown",
   "metadata": {
    "slideshow": {
     "slide_type": "slide"
    }
   },
   "source": [
    "Alternates between performing:\n",
    "\n",
    "- __Expectation (E)__ step: Given the current parameters of the model, estimate a probability distribution.\n",
    "\n",
    "- __Maximization (M)__ step: Given the current data, estimate the parameters to update the model."
   ]
  },
  {
   "cell_type": "markdown",
   "metadata": {
    "slideshow": {
     "slide_type": "slide"
    }
   },
   "source": [
    "EM, more formally\n",
    "-----\n",
    "\n",
    "Alternates between performing:\n",
    "\n",
    "- __Expectation (E)__ step: Using the current estimate for the parameters, create function for the expectation of the log-likelihood.  \n",
    "\n",
    "- __Maximization (M)__ step: Computes parameters maximizing the expected log-likelihood found on the E step. "
   ]
  },
  {
   "cell_type": "markdown",
   "metadata": {
    "slideshow": {
     "slide_type": "skip"
    }
   },
   "source": [
    "The M parameter-estimates are then used to determine the distribution of the latent variables in the next E step."
   ]
  },
  {
   "cell_type": "markdown",
   "metadata": {
    "slideshow": {
     "slide_type": "skip"
    }
   },
   "source": [
    "[Wikipedia](https://en.wikipedia.org/wiki/Expectation%E2%80%93maximization_algorithm)"
   ]
  },
  {
   "cell_type": "markdown",
   "metadata": {
    "slideshow": {
     "slide_type": "slide"
    }
   },
   "source": [
    "EM example: 🐥 & 🐣\n",
    "------\n",
    "\n",
    "<center><img src=\"images/green.png\" width=\"500\"/></center>\n",
    "\n",
    "We have a circular problem ∞...\n",
    "\n",
    "If only we knew the cluster centroids, we could assign the data points to the closest clusters.   \n",
    "If only we knew which clusters the data points belong to, we could compute their centroids.  \n",
    "\n",
    "How do we assign points-to-clusters and clusters-to-points?"
   ]
  },
  {
   "cell_type": "markdown",
   "metadata": {
    "slideshow": {
     "slide_type": "slide"
    }
   },
   "source": [
    "Here is how we gonna solve it:\n",
    "-----\n",
    "\n",
    "1. We start by randomly placing cluster centroids.\n",
    "\n",
    "2. Then, we assign each data point to a cluster based on minimum distance.\n",
    "\n",
    "3. Then, we compute the centers of those new clusters and move the centroids to that position.\n",
    "\n",
    "4. Repeat step 2-3 until we get bored (or the centroids stop moving around)."
   ]
  },
  {
   "cell_type": "markdown",
   "metadata": {
    "slideshow": {
     "slide_type": "slide"
    }
   },
   "source": [
    "Check for understanding\n",
    "-----\n",
    "\n",
    "How is problem generally solved?"
   ]
  },
  {
   "cell_type": "markdown",
   "metadata": {
    "slideshow": {
     "slide_type": "fragment"
    }
   },
   "source": [
    "<center><img src=\"https://cdn.meme.am/cache/instances/folder852/75679852.jpg\" width=\"400\"/></center>\n",
    "\n",
    "__k-means__, aka the kind of clustering you should always do first."
   ]
  },
  {
   "cell_type": "markdown",
   "metadata": {
    "slideshow": {
     "slide_type": "slide"
    }
   },
   "source": [
    "<center><img src=\"images/e_1.png\" height=\"500\"/></center>"
   ]
  },
  {
   "cell_type": "markdown",
   "metadata": {
    "slideshow": {
     "slide_type": "slide"
    }
   },
   "source": [
    "<center><img src=\"images/m_1.png\" height=\"500\"/></center>"
   ]
  },
  {
   "cell_type": "markdown",
   "metadata": {
    "slideshow": {
     "slide_type": "fragment"
    }
   },
   "source": [
    "What do we do next?"
   ]
  },
  {
   "cell_type": "markdown",
   "metadata": {
    "slideshow": {
     "slide_type": "slide"
    }
   },
   "source": [
    "<center><img src=\"images/kmeans.png\" width=\"500\"/></center>"
   ]
  },
  {
   "cell_type": "markdown",
   "metadata": {
    "slideshow": {
     "slide_type": "skip"
    }
   },
   "source": [
    "Source p435 of Pattern Recognition and Machine Learning by Bishop"
   ]
  },
  {
   "cell_type": "markdown",
   "metadata": {
    "collapsed": true,
    "slideshow": {
     "slide_type": "slide"
    }
   },
   "source": [
    "A kinder, _softer_ k-means\n",
    "-----\n",
    "\n",
    "A “soft\" version of $k$-means. \n",
    "\n",
    "Instead of assigning each point to just one cluster (hard clustering), EM will attach a probability to the membership of a point in each cluster - P(cluster|point). \n",
    "\n",
    "A data point can thus belong to several clusters (though with different probabilities)."
   ]
  },
  {
   "cell_type": "markdown",
   "metadata": {
    "slideshow": {
     "slide_type": "slide"
    }
   },
   "source": [
    "<center><img src=\"https://cdn.meme.am/instances/250x250/63984114.jpg\" width=\"500\"/></center>"
   ]
  },
  {
   "cell_type": "markdown",
   "metadata": {
    "slideshow": {
     "slide_type": "slide"
    }
   },
   "source": [
    "EM is trying to maximize the following function:\n",
    "------\n",
    "    \n",
    "<center><img src=\"images/em_form.png\" width=\"500\"/></center>\n",
    "\n",
    "- X is directly observed variable\n",
    "- θ parameters of model\n",
    "- Z is not directly observed / latent variable\n",
    "    - Z is a joint (related) distribution on x."
   ]
  },
  {
   "cell_type": "markdown",
   "metadata": {
    "slideshow": {
     "slide_type": "slide"
    }
   },
   "source": [
    "Check for understanding\n",
    "------\n",
    "\n",
    "When do stop alternating between E & M?"
   ]
  },
  {
   "cell_type": "markdown",
   "metadata": {
    "slideshow": {
     "slide_type": "fragment"
    }
   },
   "source": [
    "<br>\n",
    "<details><summary>\n",
    "Click here for the solution…\n",
    "</summary>\n",
    "- Convergence (no _significant_ improvement)  \n",
    "- We hit a priori stopping criteria  \n",
    "- We run out of budget (time or money)  \n",
    "</details>"
   ]
  },
  {
   "cell_type": "markdown",
   "metadata": {
    "slideshow": {
     "slide_type": "slide"
    }
   },
   "source": [
    "EM Steps\n",
    "-----\n",
    "\n",
    "1. Initialize the parameters θ\n",
    "2. Compute the best values for Z given θ  \n",
    "3. Use the computed values of Z to compute a better estimate for the θ  \n",
    "4. Iterate steps 2 and 3 until convergence"
   ]
  },
  {
   "cell_type": "markdown",
   "metadata": {
    "slideshow": {
     "slide_type": "slide"
    }
   },
   "source": [
    "EM steps, stated another way\n",
    "-----\n",
    "\n",
    "1. Initialize the parameters of the models, either randomly or doing a \"smart seeding\"\n",
    "\n",
    "2. E Step: Find the posterior probabilities of the latent variable given current parameter values.\n",
    "\n",
    "3. M Step: Reestimate the parameter values given the current posterior probabilities.\n",
    "\n",
    "4. Repeat 2-3 monitoring the likelihood function likelihood. Hope for convergence."
   ]
  },
  {
   "cell_type": "markdown",
   "metadata": {
    "slideshow": {
     "slide_type": "slide"
    }
   },
   "source": [
    "Check for understanding\n",
    "------\n",
    "\n",
    "What are the Z random variables in K-means?\n",
    "\n",
    "<center><img src=\"images/e_1.png\" height=\"500\"/></center>"
   ]
  },
  {
   "cell_type": "markdown",
   "metadata": {
    "slideshow": {
     "slide_type": "fragment"
    }
   },
   "source": [
    "<br>\n",
    "<details><summary>\n",
    "Click here for the solution…\n",
    "</summary>\n",
    "The centers of the clusters. <br>\n",
    "<br>\n",
    "The centers of the clusters are new / missing / latent variables.\n",
    "</details>"
   ]
  },
  {
   "cell_type": "markdown",
   "metadata": {},
   "source": [
    "Back to our data\n",
    "-----\n",
    "\n"
   ]
  },
  {
   "cell_type": "code",
   "execution_count": 9,
   "metadata": {
    "collapsed": true
   },
   "outputs": [],
   "source": [
    "class Gaussian:\n",
    "    \"Model univariate Gaussian\"\n",
    "\n",
    "    def __init__(self, mu, sigma):\n",
    "        self.mu = mu\n",
    "        self.sigma = sigma\n",
    "\n",
    "    def pdf(self, datum):\n",
    "        \"Probability of a data point given the current parameters\"\n",
    "        u = (datum - self.mu) / abs(self.sigma)\n",
    "        y = (1 / (sqrt(2 * pi) * abs(self.sigma))) * exp(-u * u / 2)\n",
    "        return y\n",
    "\n",
    "    def __repr__(self):\n",
    "        return 'Gaussian({0:4.6}, {1:4.6})'.format(self.mu, self.sigma)"
   ]
  },
  {
   "cell_type": "code",
   "execution_count": 10,
   "metadata": {},
   "outputs": [
    {
     "name": "stdout",
     "output_type": "stream",
     "text": [
      "Best single Gaussian: μ = 1.9, σ = 1.8\n"
     ]
    }
   ],
   "source": [
    "best_single = Gaussian(np.mean(data), np.std(data))\n",
    "print('Best single Gaussian: μ = {:.2}, σ = {:.2}'.format(best_single.mu, best_single.sigma))"
   ]
  },
  {
   "cell_type": "code",
   "execution_count": 11,
   "metadata": {},
   "outputs": [
    {
     "data": {
      "image/png": "[encoded data removed]",
      "text/plain": [
       "<matplotlib.figure.Figure at 0x110e20978>"
      ]
     },
     "metadata": {},
     "output_type": "display_data"
    }
   ],
   "source": [
    "x = np.linspace(-6, 8, 200)\n",
    "g_single = stats.norm(best_single.mu, best_single.sigma).pdf(x)\n",
    "sns.distplot(data, bins=20, kde=False, norm_hist=True)\n",
    "plt.plot(x, g_single, label='single gaussian')\n",
    "plt.legend();"
   ]
  },
  {
   "cell_type": "code",
   "execution_count": 12,
   "metadata": {
    "collapsed": true
   },
   "outputs": [],
   "source": [
    "from math import sqrt, log, exp, pi\n",
    "from random import uniform"
   ]
  },
  {
   "cell_type": "code",
   "execution_count": 13,
   "metadata": {
    "collapsed": true
   },
   "outputs": [],
   "source": [
    "class GaussianMixture:\n",
    "    \"Model mixture of two univariate Gaussians and their EM estimation\"\n",
    "\n",
    "    def __init__(self, data, mu_min=min(data), mu_max=max(data), sigma_min=.1, sigma_max=1, mix=.5):\n",
    "        self.data = data\n",
    "        self.one = Gaussian(uniform(mu_min, mu_max), \n",
    "                            uniform(sigma_min, sigma_max))\n",
    "        self.two = Gaussian(uniform(mu_min, mu_max), \n",
    "                            uniform(sigma_min, sigma_max))\n",
    "        self.mix = mix\n",
    "\n",
    "    def Estep(self):\n",
    "        \"Perform an E(stimation)-step, freshening up self.loglike in the process\"\n",
    "        # compute weights\n",
    "        self.loglike = 0. # = log(p = 1)\n",
    "        for datum in self.data:\n",
    "            # unnormalized weights\n",
    "            wp1 = self.one.pdf(datum) * self.mix\n",
    "            wp2 = self.two.pdf(datum) * (1. - self.mix)\n",
    "            # compute denominator\n",
    "            den = wp1 + wp2\n",
    "            # normalize\n",
    "            wp1 /= den\n",
    "            wp2 /= den\n",
    "            # add into loglike\n",
    "            self.loglike += log(wp1 + wp2)\n",
    "            # yield weight tuple\n",
    "            yield (wp1, wp2)\n",
    "\n",
    "    def Mstep(self, weights):\n",
    "        \"Perform an M(aximization)-step\"\n",
    "        # compute denominators\n",
    "        (left, rigt) = zip(*weights)\n",
    "        one_den = sum(left)\n",
    "        two_den = sum(rigt)\n",
    "        # compute new means\n",
    "        self.one.mu = sum(w * d / one_den for (w, d) in zip(left, data))\n",
    "        self.two.mu = sum(w * d / two_den for (w, d) in zip(rigt, data))\n",
    "        # compute new sigmas\n",
    "        self.one.sigma = sqrt(sum(w * ((d - self.one.mu) ** 2)\n",
    "                                  for (w, d) in zip(left, data)) / one_den)\n",
    "        self.two.sigma = sqrt(sum(w * ((d - self.two.mu) ** 2)\n",
    "                                  for (w, d) in zip(rigt, data)) / two_den)\n",
    "        # compute new mix\n",
    "        self.mix = one_den / len(data)\n",
    "\n",
    "    def iterate(self, N=1, verbose=False):\n",
    "        \"Perform N iterations, then compute log-likelihood\"\n",
    "        for i in range(1, N+1):\n",
    "            self.Mstep(self.Estep())\n",
    "            if verbose:\n",
    "                print('{0:2} {1}'.format(i, self))\n",
    "        self.Estep() # to freshen up self.loglike\n",
    "\n",
    "    def pdf(self, x):\n",
    "        return (self.mix)*self.one.pdf(x) + (1-self.mix)*self.two.pdf(x)\n",
    "        \n",
    "    def __repr__(self):\n",
    "        return 'GaussianMixture({0}, {1}, mix={2.03})'.format(self.one, \n",
    "                                                              self.two, \n",
    "                                                              self.mix)\n",
    "\n",
    "    def __str__(self):\n",
    "        return 'Mixture: {0}, {1}, mix={2:.03})'.format(self.one, \n",
    "                                                        self.two, \n",
    "                                                        self.mix)"
   ]
  },
  {
   "cell_type": "markdown",
   "metadata": {},
   "source": [
    "HT: https://gist.github.com/kylebgorman/2992206"
   ]
  },
  {
   "cell_type": "code",
   "execution_count": 14,
   "metadata": {},
   "outputs": [
    {
     "name": "stdout",
     "output_type": "stream",
     "text": [
      " 1 Mixture: Gaussian(-2.8228, 0.00763578), Gaussian(1.90596, 1.72007), mix=0.00912)\n",
      " 1 Mixture: Gaussian(-2.82288,  0.0), Gaussian(1.90966, 1.71565), mix=0.00989)\n"
     ]
    },
    {
     "name": "stderr",
     "output_type": "stream",
     "text": [
      "/Users/brianspiering/anaconda3/envs/gmm/lib/python3.6/site-packages/ipykernel_launcher.py:10: RuntimeWarning: divide by zero encountered in double_scalars\n",
      "  # Remove the CWD from sys.path while we load stuff.\n"
     ]
    }
   ],
   "source": [
    "# Check out the fitting process\n",
    "n_iterations = 5\n",
    "best_mix = None\n",
    "best_loglike = float('-inf')\n",
    "mix = GaussianMixture(data)\n",
    "for _ in range(n_iterations):\n",
    "    try:\n",
    "        mix.iterate(verbose=True)\n",
    "        if mix.loglike > best_loglike:\n",
    "            best_loglike = mix.loglike\n",
    "            best_mix = mix\n",
    "    except (ZeroDivisionError, ValueError, RuntimeWarning): # Catch division errors from bad starts, and just throw them out...\n",
    "        pass"
   ]
  },
  {
   "cell_type": "code",
   "execution_count": 15,
   "metadata": {},
   "outputs": [
    {
     "name": "stdout",
     "output_type": "stream",
     "text": [
      "Computing best model with random restarts...\n",
      "\n"
     ]
    },
    {
     "name": "stderr",
     "output_type": "stream",
     "text": [
      "/Users/brianspiering/anaconda3/envs/gmm/lib/python3.6/site-packages/ipykernel_launcher.py:10: RuntimeWarning: divide by zero encountered in double_scalars\n",
      "  # Remove the CWD from sys.path while we load stuff.\n"
     ]
    },
    {
     "name": "stdout",
     "output_type": "stream",
     "text": [
      "Done. 🙂\n"
     ]
    }
   ],
   "source": [
    "# Find best Mixture Gaussian model\n",
    "n_iterations = 20\n",
    "n_random_restarts = 500\n",
    "best_mix = None\n",
    "best_loglike = float('-inf')\n",
    "print('Computing best model with random restarts...\\n')\n",
    "for _ in range(n_random_restarts):\n",
    "    mix = GaussianMixture(data)\n",
    "    for _ in range(n_iterations):\n",
    "        try:\n",
    "            mix.iterate()\n",
    "            if mix.loglike > best_loglike:\n",
    "                best_loglike = mix.loglike\n",
    "                best_mix = mix\n",
    "        except (ZeroDivisionError, ValueError, RuntimeWarning): # Catch division errors from bad starts, and just throw them out...\n",
    "            pass\n",
    "print('Done. 🙂')"
   ]
  },
  {
   "cell_type": "code",
   "execution_count": 16,
   "metadata": {},
   "outputs": [
    {
     "data": {
      "image/png": "[encoded data removed]",
      "text/plain": [
       "<matplotlib.figure.Figure at 0x10edc10f0>"
      ]
     },
     "metadata": {},
     "output_type": "display_data"
    }
   ],
   "source": [
    "sns.distplot(data, bins=20, kde=False, norm_hist=True)\n",
    "g_both = [best_mix.pdf(e) for e in x]\n",
    "plt.plot(x, g_both, label='gaussian mixture');\n",
    "plt.legend();"
   ]
  },
  {
   "cell_type": "markdown",
   "metadata": {},
   "source": [
    "GMM extensions: Beyond 2 Gaussians\n",
    "-----\n",
    "\n",
    "<center><img src=\"images/triples.jpg\" width=\"700\"/></center>"
   ]
  },
  {
   "cell_type": "markdown",
   "metadata": {
    "collapsed": true
   },
   "source": [
    "GMM extensions: Beyond 1 dimension\n",
    "-----\n",
    "\n",
    "<center><img src=\"images/em_2d_gmm.png\" width=\"700\"/></center>"
   ]
  },
  {
   "cell_type": "markdown",
   "metadata": {},
   "source": [
    "Beyond GMM: Kernel Density Estimation (KDE)\n",
    "-----\n",
    "\n",
    "A non-parametric way to estimate the probability density function of a random variable.\n",
    "\n",
    "We assume samples are drawn from some distribution with an unknown density ƒ.\n",
    "\n",
    "Try to estimate with:\n",
    "<center><img src=\"https://wikimedia.org/api/rest_v1/media/math/render/svg/15255412d35488194b7e24e4518765e0af9992b5\" width=\"700\"/></center>\n",
    "\n",
    "The only parameter is h the \"bandwidth\".\n",
    "\n",
    "It is non-parameter because the number of parameters does not increase with model complexity."
   ]
  },
  {
   "cell_type": "code",
   "execution_count": 17,
   "metadata": {},
   "outputs": [
    {
     "data": {
      "image/png": "[encoded data removed]",
      "text/plain": [
       "<matplotlib.figure.Figure at 0x11123d0f0>"
      ]
     },
     "metadata": {},
     "output_type": "display_data"
    }
   ],
   "source": [
    "# Our data\n",
    "df.hist(grid=False,\n",
    "        normed=True);\n",
    "sns.kdeplot(data,\n",
    "           legend=False);"
   ]
  },
  {
   "cell_type": "code",
   "execution_count": 18,
   "metadata": {},
   "outputs": [
    {
     "data": {
      "image/png": "[encoded data removed]",
      "text/plain": [
       "<matplotlib.figure.Figure at 0x1111b0390>"
      ]
     },
     "metadata": {},
     "output_type": "display_data"
    }
   ],
   "source": [
    "# Model an uniform without any priors\n",
    "s = np.random.uniform(low=-1,\n",
    "                      high=0,\n",
    "                      size=1000)\n",
    "plt.hist(s, bins=20, normed=True)\n",
    "sns.kdeplot(s,\n",
    "           legend=False);"
   ]
  },
  {
   "cell_type": "markdown",
   "metadata": {
    "slideshow": {
     "slide_type": "slide"
    }
   },
   "source": [
    "Summary\n",
    "----\n",
    "\n",
    "- Gaussian Mixture Models (GMM) take our old friend the Gaussian and add another Gaussian(s).\n",
    "- This allows us to model more complex data.\n",
    "- We fit a GMM with the Expectation–Maximization (EM) Algorithm.\n",
    "- Expectation–Maximization (EM) Algorithm is a series of steps to find good parameter estimates when there are latent variables.\n",
    "- EM steps:\n",
    "    1. Initialize the parameter estimates\n",
    "    2. Given the current parameter estimates, find the min log likelihood for Z (data+latent variables)\n",
    "    3. Given the current data, find better parameter estimates\n",
    "    3. Repeat steps 2 & 3\n",
    "- EM can be used beyond GMM\n",
    "- GMM work well but you have to guess the number of Gaussians. Kernel Density Estimation (KDE) does __not__ require that kind of guessing "
   ]
  },
  {
   "cell_type": "markdown",
   "metadata": {},
   "source": [
    "Going Further...\n",
    "----\n",
    "\n",
    "- [mathematicalmonk's video series on the subject](https://www.youtube.com/playlist?list=PLD0F06AA0D2E8FFBA)\n",
    "- [EM Demystified- An Expectation-Maximization Tutorial](https://www2.ee.washington.edu/techsite/papers/documents/UWEETR-2010-0002.pdf)\n",
    "- [scikit-learn's implementation of GMM](http://scikit-learn.org/stable/modules/mixture.html) "
   ]
  },
  {
   "cell_type": "markdown",
   "metadata": {
    "slideshow": {
     "slide_type": "slide"
    }
   },
   "source": [
    "<br>\n",
    "<br> \n",
    "<br>\n",
    "\n",
    "----"
   ]
  }
 ],
 "metadata": {
  "anaconda-cloud": {},
  "kernelspec": {
   "display_name": "Python 3",
   "language": "python",
   "name": "python3"
  },
  "language_info": {
   "codemirror_mode": {
    "name": "ipython",
    "version": 3
   },
   "file_extension": ".py",
   "mimetype": "text/x-python",
   "name": "python",
   "nbconvert_exporter": "python",
   "pygments_lexer": "ipython3",
   "version": "3.6.1"
  }
 },
 "nbformat": 4,
 "nbformat_minor": 1
}
